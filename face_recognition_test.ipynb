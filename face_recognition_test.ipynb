{
 "cells": [
  {
   "cell_type": "markdown",
   "metadata": {},
   "source": [
    "## Face recognition test\n",
    "\n",
    "Main portion of code obtained from [this notebook](https://github.com/timesler/facenet-pytorch/blob/master/examples/infer.ipynb)"
   ]
  },
  {
   "cell_type": "markdown",
   "metadata": {},
   "source": [
    "## Setup"
   ]
  },
  {
   "cell_type": "code",
   "execution_count": 2,
   "metadata": {},
   "outputs": [],
   "source": [
    "from facenet_pytorch import MTCNN, InceptionResnetV1\n",
    "import torch\n",
    "from torch.utils.data import DataLoader\n",
    "from torchvision import datasets\n",
    "import numpy as np\n",
    "import pandas as pd\n",
    "import os"
   ]
  },
  {
   "cell_type": "code",
   "execution_count": 3,
   "metadata": {},
   "outputs": [],
   "source": [
    "workers = 0"
   ]
  },
  {
   "cell_type": "code",
   "execution_count": 4,
   "metadata": {},
   "outputs": [],
   "source": [
    "device = torch.device('cpu')"
   ]
  },
  {
   "cell_type": "markdown",
   "metadata": {},
   "source": [
    "## Load dataset"
   ]
  },
  {
   "cell_type": "code",
   "execution_count": 5,
   "metadata": {},
   "outputs": [],
   "source": [
    "def collate_fn(x):\n",
    "    return x[0]\n",
    "\n",
    "data_set = datasets.ImageFolder('./slack_faces')\n",
    "data_set.idx_to_class = {i:c for c, i in data_set.class_to_idx.items()}\n",
    "data_loader = DataLoader(data_set, collate_fn=collate_fn, num_workers=workers)"
   ]
  },
  {
   "cell_type": "markdown",
   "metadata": {},
   "source": [
    "## Use MTCNN for face recognition"
   ]
  },
  {
   "cell_type": "code",
   "execution_count": 6,
   "metadata": {},
   "outputs": [],
   "source": [
    "mtcnn = MTCNN(device=device)"
   ]
  },
  {
   "cell_type": "code",
   "execution_count": 7,
   "metadata": {},
   "outputs": [],
   "source": [
    "data_aligned = []\n",
    "data_names = []\n",
    "for x, y in data_loader:\n",
    "    x_aligned, prob = mtcnn(x, return_prob=True)\n",
    "    if x_aligned is not None:\n",
    "        data_aligned.append(x_aligned)\n",
    "        data_names.append(data_set.idx_to_class[y])"
   ]
  },
  {
   "cell_type": "markdown",
   "metadata": {},
   "source": [
    "## Resnet is used for face embedding"
   ]
  },
  {
   "cell_type": "code",
   "execution_count": 8,
   "metadata": {},
   "outputs": [],
   "source": [
    "resnet = InceptionResnetV1(pretrained='vggface2').eval().to(device)"
   ]
  },
  {
   "cell_type": "code",
   "execution_count": 9,
   "metadata": {},
   "outputs": [],
   "source": [
    "data_aligned = torch.stack(data_aligned).to(device)\n",
    "data_embeddings = resnet(data_aligned).detach().cpu()"
   ]
  },
  {
   "cell_type": "code",
   "execution_count": 10,
   "metadata": {},
   "outputs": [
    {
     "name": "stdout",
     "output_type": "stream",
     "text": [
      "                          andres_cadiz  andres_matte  diego_andai  \\\n",
      "andres_cadiz                  0.000000      1.119540     1.267596   \n",
      "andres_matte                  1.119540      0.000000     1.361286   \n",
      "diego_andai                   1.267596      1.361286     0.000000   \n",
      "diego_fernandez               1.314620      1.304183     1.316425   \n",
      "ignacio_marquez               1.052495      1.166882     1.128461   \n",
      "jaime_bunzli                  1.310948      1.326655     1.404345   \n",
      "javier_montoya                1.296394      1.324368     1.308123   \n",
      "maria_fernanda_sepulveda      1.269143      1.340715     1.379270   \n",
      "milan_rafaeli                 1.476271      1.428223     1.371135   \n",
      "raimundo_herrera              1.352822      1.417893     1.410501   \n",
      "\n",
      "                          diego_fernandez  ignacio_marquez  jaime_bunzli  \\\n",
      "andres_cadiz                     1.314620         1.052495      1.310948   \n",
      "andres_matte                     1.304183         1.166882      1.326655   \n",
      "diego_andai                      1.316425         1.128461      1.404345   \n",
      "diego_fernandez                  0.000000         1.108241      1.497356   \n",
      "ignacio_marquez                  1.108241         0.000000      1.339736   \n",
      "jaime_bunzli                     1.497356         1.339736      0.000000   \n",
      "javier_montoya                   1.190128         1.268215      1.530108   \n",
      "maria_fernanda_sepulveda         1.462216         1.290834      1.389955   \n",
      "milan_rafaeli                    1.315949         1.399674      1.454762   \n",
      "raimundo_herrera                 1.382465         1.578503      1.257265   \n",
      "\n",
      "                          javier_montoya  maria_fernanda_sepulveda  \\\n",
      "andres_cadiz                    1.296394                  1.269143   \n",
      "andres_matte                    1.324368                  1.340715   \n",
      "diego_andai                     1.308123                  1.379270   \n",
      "diego_fernandez                 1.190128                  1.462216   \n",
      "ignacio_marquez                 1.268215                  1.290834   \n",
      "jaime_bunzli                    1.530108                  1.389955   \n",
      "javier_montoya                  0.000000                  1.305219   \n",
      "maria_fernanda_sepulveda        1.305219                  0.000000   \n",
      "milan_rafaeli                   1.449295                  1.424132   \n",
      "raimundo_herrera                1.547793                  1.541101   \n",
      "\n",
      "                          milan_rafaeli  raimundo_herrera  \n",
      "andres_cadiz                   1.476271          1.352822  \n",
      "andres_matte                   1.428223          1.417893  \n",
      "diego_andai                    1.371135          1.410501  \n",
      "diego_fernandez                1.315949          1.382465  \n",
      "ignacio_marquez                1.399674          1.578503  \n",
      "jaime_bunzli                   1.454762          1.257265  \n",
      "javier_montoya                 1.449295          1.547793  \n",
      "maria_fernanda_sepulveda       1.424132          1.541101  \n",
      "milan_rafaeli                  0.000000          1.241028  \n",
      "raimundo_herrera               1.241028          0.000000  \n"
     ]
    }
   ],
   "source": [
    "dists = [[(e1 - e2).norm().item() for e2 in data_embeddings] for e1 in data_embeddings]\n",
    "print(pd.DataFrame(dists, columns=data_names, index=data_names))"
   ]
  },
  {
   "cell_type": "markdown",
   "metadata": {},
   "source": [
    "## Load testset and recognize faces"
   ]
  },
  {
   "cell_type": "code",
   "execution_count": 11,
   "metadata": {},
   "outputs": [],
   "source": [
    "def collate_fn(x):\n",
    "    return x[0]\n",
    "\n",
    "test_set = datasets.ImageFolder('./test_data')\n",
    "test_set.idx_to_class = {i:c for c, i in test_set.class_to_idx.items()}\n",
    "test_loader = DataLoader(test_set, collate_fn=collate_fn, num_workers=workers)"
   ]
  },
  {
   "cell_type": "code",
   "execution_count": 12,
   "metadata": {},
   "outputs": [],
   "source": [
    "test_aligned = []\n",
    "test_names = []\n",
    "for x, y in test_loader:\n",
    "    x_aligned, prob = mtcnn(x, return_prob=True)\n",
    "    if x_aligned is not None:\n",
    "        test_aligned.append(x_aligned)\n",
    "        test_names.append(test_set.idx_to_class[y])"
   ]
  },
  {
   "cell_type": "code",
   "execution_count": 13,
   "metadata": {},
   "outputs": [],
   "source": [
    "test_aligned = torch.stack(test_aligned).to(device)\n",
    "test_embeddings = resnet(test_aligned).detach().cpu()"
   ]
  },
  {
   "cell_type": "markdown",
   "metadata": {},
   "source": [
    "## KNN Test (nearest embedding)"
   ]
  },
  {
   "cell_type": "code",
   "execution_count": 14,
   "metadata": {},
   "outputs": [],
   "source": [
    "from sklearn.neighbors import KNeighborsClassifier"
   ]
  },
  {
   "cell_type": "code",
   "execution_count": 15,
   "metadata": {},
   "outputs": [],
   "source": [
    "neigh = KNeighborsClassifier(n_neighbors=1)"
   ]
  },
  {
   "cell_type": "code",
   "execution_count": 16,
   "metadata": {},
   "outputs": [
    {
     "data": {
      "text/plain": [
       "KNeighborsClassifier(algorithm='auto', leaf_size=30, metric='minkowski',\n",
       "                     metric_params=None, n_jobs=None, n_neighbors=1, p=2,\n",
       "                     weights='uniform')"
      ]
     },
     "execution_count": 16,
     "metadata": {},
     "output_type": "execute_result"
    }
   ],
   "source": [
    "neigh.fit(data_embeddings, data_names)"
   ]
  },
  {
   "cell_type": "code",
   "execution_count": 27,
   "metadata": {},
   "outputs": [
    {
     "name": "stdout",
     "output_type": "stream",
     "text": [
      "Accuracy: 100.00%\n"
     ]
    }
   ],
   "source": [
    "print(f\"Accuracy: {(neigh.score(test_embeddings, test_names) * 100):.2f}%\")"
   ]
  },
  {
   "cell_type": "code",
   "execution_count": 28,
   "metadata": {},
   "outputs": [
    {
     "name": "stdout",
     "output_type": "stream",
     "text": [
      "for andres_cadiz, predicted: andres_cadiz\n",
      "for andres_cadiz, predicted: andres_cadiz\n",
      "for andres_matte, predicted: andres_matte\n",
      "for andres_matte, predicted: andres_matte\n",
      "for diego_andai, predicted: diego_andai\n",
      "for diego_fernandez, predicted: diego_fernandez\n",
      "for diego_fernandez, predicted: diego_fernandez\n",
      "for ignacio_marquez, predicted: ignacio_marquez\n",
      "for ignacio_marquez, predicted: ignacio_marquez\n",
      "for jaime_bunzli, predicted: jaime_bunzli\n",
      "for jaime_bunzli, predicted: jaime_bunzli\n",
      "for javier_montoya, predicted: javier_montoya\n",
      "for maria_fernanda_sepulveda, predicted: maria_fernanda_sepulveda\n",
      "for milan_rafaeli, predicted: milan_rafaeli\n",
      "for raimundo_herrera, predicted: raimundo_herrera\n"
     ]
    }
   ],
   "source": [
    "for idx, embedding in enumerate(test_embeddings):\n",
    "    prediction = neigh.predict(embedding.reshape(1, -1))[0]\n",
    "    print(f\"for {test_names[idx]}, predicted: {prediction}\")"
   ]
  },
  {
   "cell_type": "code",
   "execution_count": null,
   "metadata": {},
   "outputs": [],
   "source": []
  }
 ],
 "metadata": {
  "kernelspec": {
   "display_name": "Python 3",
   "language": "python",
   "name": "python3"
  },
  "language_info": {
   "codemirror_mode": {
    "name": "ipython",
    "version": 3
   },
   "file_extension": ".py",
   "mimetype": "text/x-python",
   "name": "python",
   "nbconvert_exporter": "python",
   "pygments_lexer": "ipython3",
   "version": "3.7.4"
  }
 },
 "nbformat": 4,
 "nbformat_minor": 2
}
